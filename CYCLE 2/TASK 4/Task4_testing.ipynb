{
 "cells": [
  {
   "cell_type": "markdown",
   "id": "86d91060",
   "metadata": {},
   "source": [
    "# Training and preprocessing for this task is being executed on google colab "
   ]
  },
  {
   "cell_type": "code",
   "execution_count": 1,
   "id": "056ec7e6",
   "metadata": {},
   "outputs": [
    {
     "name": "stderr",
     "output_type": "stream",
     "text": [
      "e:\\University Labs\\INTERNSHIP\\tasks\\Lib\\site-packages\\sklearn\\base.py:440: InconsistentVersionWarning: Trying to unpickle estimator LabelEncoder from version 1.6.1 when using version 1.7.0. This might lead to breaking code or invalid results. Use at your own risk. For more info please refer to:\n",
      "https://scikit-learn.org/stable/model_persistence.html#security-maintainability-limitations\n",
      "  warnings.warn(\n"
     ]
    },
    {
     "name": "stdout",
     "output_type": "stream",
     "text": [
      "Predictions: [0 0 0 ... 0 0 0]\n"
     ]
    }
   ],
   "source": [
    "import pandas as pd\n",
    "import joblib\n",
    "\n",
    "# Load model and columns\n",
    "model = joblib.load('loan_model.pkl')\n",
    "model_columns = joblib.load('model_columns.pkl')\n",
    "\n",
    "# Load test data\n",
    "test_df = pd.read_csv('test_df.csv', encoding='utf-8')\n",
    "\n",
    "# Match column structure\n",
    "missing_cols = set(model_columns) - set(test_df.columns)\n",
    "for col in missing_cols:\n",
    "    test_df[col] = 0\n",
    "test_df = test_df[model_columns]\n",
    "\n",
    "# Predict\n",
    "preds = model.predict(test_df)\n",
    "print(\"Predictions:\", preds)\n"
   ]
  }
 ],
 "metadata": {
  "kernelspec": {
   "display_name": "tasks",
   "language": "python",
   "name": "python3"
  },
  "language_info": {
   "codemirror_mode": {
    "name": "ipython",
    "version": 3
   },
   "file_extension": ".py",
   "mimetype": "text/x-python",
   "name": "python",
   "nbconvert_exporter": "python",
   "pygments_lexer": "ipython3",
   "version": "3.13.5"
  }
 },
 "nbformat": 4,
 "nbformat_minor": 5
}
