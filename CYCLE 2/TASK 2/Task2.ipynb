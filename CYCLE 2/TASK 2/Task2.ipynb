{
 "cells": [
  {
   "cell_type": "code",
   "execution_count": 1,
   "id": "34226c4d",
   "metadata": {},
   "outputs": [
    {
     "name": "stderr",
     "output_type": "stream",
     "text": [
      "e:\\University Labs\\INTERNSHIP\\tasks\\Lib\\site-packages\\tqdm\\auto.py:21: TqdmWarning: IProgress not found. Please update jupyter and ipywidgets. See https://ipywidgets.readthedocs.io/en/stable/user_install.html\n",
      "  from .autonotebook import tqdm as notebook_tqdm\n",
      "e:\\University Labs\\INTERNSHIP\\tasks\\Lib\\site-packages\\huggingface_hub\\file_download.py:143: UserWarning: `huggingface_hub` cache-system uses symlinks by default to efficiently store duplicated files but your machine does not support them in C:\\Users\\LENOVO\\.cache\\huggingface\\hub\\datasets--cnn_dailymail. Caching files will still work but in a degraded version that might require more space on your disk. This warning can be disabled by setting the `HF_HUB_DISABLE_SYMLINKS_WARNING` environment variable. For more details, see https://huggingface.co/docs/huggingface_hub/how-to-cache#limitations.\n",
      "To support symlinks on Windows, you either need to activate Developer Mode or to run Python as an administrator. In order to activate developer mode, see this article: https://docs.microsoft.com/en-us/windows/apps/get-started/enable-your-device-for-development\n",
      "  warnings.warn(message)\n",
      "Generating train split: 100%|██████████| 287113/287113 [00:08<00:00, 32721.35 examples/s]\n",
      "Generating validation split: 100%|██████████| 13368/13368 [00:00<00:00, 37000.48 examples/s]\n",
      "Generating test split: 100%|██████████| 11490/11490 [00:00<00:00, 38981.94 examples/s]\n"
     ]
    },
    {
     "name": "stdout",
     "output_type": "stream",
     "text": [
      "LONDON, England (Reuters) -- Harry Potter star Daniel Radcliffe gains access to a reported £20 million ($41.1 million) fortune as he turns 18 on Monday, but he insists the money won't cast a spell on him. Daniel Radcliffe as Harry Potter in \"Harry Potter and the Order of the Phoenix\" To the disappointment of gossip columnists around the world, the young actor says he has no plans to fritter his cash away on fast cars, drink and celebrity parties. \"I don't plan to be one of those people who, as soon as they turn 18, suddenly buy themselves a massive sports car collection or something similar,\" he told an Australian interviewer earlier this month. \"I don't think I'll be particularly extravagant. \"The things I like buying are things that cost about 10 pounds -- books and CDs and DVDs.\" At 18, Radcliffe will be able to gamble in a casino, buy a drink in a pub or see the horror film \"Hostel: Part II,\" currently six places below his number one movie on the UK box office chart. Details of how he'll mark his landmark birthday are under wraps. His agent and publicist had no comment on his plans. \"I'll definitely have some sort of party,\" he said in an interview. \"Hopefully none of you will be reading about it.\" Radcliffe's earnings from the first five Potter films have been held in a trust fund which he has not been able to touch. Despite his growing fame and riches, the actor says he is keeping his feet firmly on the ground. \"People are always looking to say 'kid star goes off the rails,'\" he told reporters last month. \"But I try very hard not to go that way because it would be too easy for them.\" His latest outing as the boy wizard in \"Harry Potter and the Order of the Phoenix\" is breaking records on both sides of the Atlantic and he will reprise the role in the last two films.  Watch I-Reporter give her review of Potter's latest » . There is life beyond Potter, however. The Londoner has filmed a TV movie called \"My Boy Jack,\" about author Rudyard Kipling and his son, due for release later this year. He will also appear in \"December Boys,\" an Australian film about four boys who escape an orphanage. Earlier this year, he made his stage debut playing a tortured teenager in Peter Shaffer's \"Equus.\" Meanwhile, he is braced for even closer media scrutiny now that he's legally an adult: \"I just think I'm going to be more sort of fair game,\" he told Reuters. E-mail to a friend . Copyright 2007 Reuters. All rights reserved.This material may not be published, broadcast, rewritten, or redistributed.\n",
      "Harry Potter star Daniel Radcliffe gets £20M fortune as he turns 18 Monday .\n",
      "Young actor says he has no plans to fritter his cash away .\n",
      "Radcliffe's earnings from first five Potter films have been held in trust fund .\n"
     ]
    }
   ],
   "source": [
    "from datasets import load_dataset\n",
    "\n",
    "# Load dataset from HuggingFace\n",
    "dataset = load_dataset(\"cnn_dailymail\", \"3.0.0\")\n",
    "train_data = dataset[\"train\"]\n",
    "\n",
    "# View example\n",
    "print(train_data[0][\"article\"])\n",
    "print(train_data[0][\"highlights\"])  # This is the reference summary\n"
   ]
  },
  {
   "cell_type": "code",
   "execution_count": 2,
   "id": "a0c779d5",
   "metadata": {},
   "outputs": [],
   "source": [
    "import pandas as pd \n",
    "data = pd.DataFrame(train_data)"
   ]
  },
  {
   "cell_type": "code",
   "execution_count": 3,
   "id": "b2c10974",
   "metadata": {},
   "outputs": [
    {
     "data": {
      "text/html": [
       "<div>\n",
       "<style scoped>\n",
       "    .dataframe tbody tr th:only-of-type {\n",
       "        vertical-align: middle;\n",
       "    }\n",
       "\n",
       "    .dataframe tbody tr th {\n",
       "        vertical-align: top;\n",
       "    }\n",
       "\n",
       "    .dataframe thead th {\n",
       "        text-align: right;\n",
       "    }\n",
       "</style>\n",
       "<table border=\"1\" class=\"dataframe\">\n",
       "  <thead>\n",
       "    <tr style=\"text-align: right;\">\n",
       "      <th></th>\n",
       "      <th>article</th>\n",
       "      <th>highlights</th>\n",
       "      <th>id</th>\n",
       "    </tr>\n",
       "  </thead>\n",
       "  <tbody>\n",
       "    <tr>\n",
       "      <th>0</th>\n",
       "      <td>LONDON, England (Reuters) -- Harry Potter star...</td>\n",
       "      <td>Harry Potter star Daniel Radcliffe gets £20M f...</td>\n",
       "      <td>42c027e4ff9730fbb3de84c1af0d2c506e41c3e4</td>\n",
       "    </tr>\n",
       "    <tr>\n",
       "      <th>1</th>\n",
       "      <td>Editor's note: In our Behind the Scenes series...</td>\n",
       "      <td>Mentally ill inmates in Miami are housed on th...</td>\n",
       "      <td>ee8871b15c50d0db17b0179a6d2beab35065f1e9</td>\n",
       "    </tr>\n",
       "    <tr>\n",
       "      <th>2</th>\n",
       "      <td>MINNEAPOLIS, Minnesota (CNN) -- Drivers who we...</td>\n",
       "      <td>NEW: \"I thought I was going to die,\" driver sa...</td>\n",
       "      <td>06352019a19ae31e527f37f7571c6dd7f0c5da37</td>\n",
       "    </tr>\n",
       "    <tr>\n",
       "      <th>3</th>\n",
       "      <td>WASHINGTON (CNN) -- Doctors removed five small...</td>\n",
       "      <td>Five small polyps found during procedure; \"non...</td>\n",
       "      <td>24521a2abb2e1f5e34e6824e0f9e56904a2b0e88</td>\n",
       "    </tr>\n",
       "    <tr>\n",
       "      <th>4</th>\n",
       "      <td>(CNN)  -- The National Football League has ind...</td>\n",
       "      <td>NEW: NFL chief, Atlanta Falcons owner critical...</td>\n",
       "      <td>7fe70cc8b12fab2d0a258fababf7d9c6b5e1262a</td>\n",
       "    </tr>\n",
       "    <tr>\n",
       "      <th>...</th>\n",
       "      <td>...</td>\n",
       "      <td>...</td>\n",
       "      <td>...</td>\n",
       "    </tr>\n",
       "    <tr>\n",
       "      <th>287108</th>\n",
       "      <td>The nine-year-old daughter of a black, unarmed...</td>\n",
       "      <td>Rumain Brisbon, 34, was killed after Phoenix p...</td>\n",
       "      <td>279a12d3ee37b8109cc192a9e88115a5a631fb06</td>\n",
       "    </tr>\n",
       "    <tr>\n",
       "      <th>287109</th>\n",
       "      <td>Legalising assisted suicide is a slippery slop...</td>\n",
       "      <td>Theo Boer, a European assisted suicide watchdo...</td>\n",
       "      <td>b5bc9d404a9a5d890c9fc26550b67e6d8d83241f</td>\n",
       "    </tr>\n",
       "    <tr>\n",
       "      <th>287110</th>\n",
       "      <td>A group calling itself 'The Women of the 99 Pe...</td>\n",
       "      <td>Ohio congressman criticised for 'condoning the...</td>\n",
       "      <td>500862586f925e406f8b662934e1a71bbee32463</td>\n",
       "    </tr>\n",
       "    <tr>\n",
       "      <th>287111</th>\n",
       "      <td>Most men enjoy a good pint of lager or real al...</td>\n",
       "      <td>The Black Country Ale Tairsters have been to 1...</td>\n",
       "      <td>32a1f9e5c37a938c0c0bca1a1559247b9c4334b2</td>\n",
       "    </tr>\n",
       "    <tr>\n",
       "      <th>287112</th>\n",
       "      <td>A Facebook page seeking to preserve the 'Black...</td>\n",
       "      <td>Facebook page supporting tradition gains one m...</td>\n",
       "      <td>8ec9ff4d633dd4cc26d53f503c33f7464b43c36e</td>\n",
       "    </tr>\n",
       "  </tbody>\n",
       "</table>\n",
       "<p>287113 rows × 3 columns</p>\n",
       "</div>"
      ],
      "text/plain": [
       "                                                  article  \\\n",
       "0       LONDON, England (Reuters) -- Harry Potter star...   \n",
       "1       Editor's note: In our Behind the Scenes series...   \n",
       "2       MINNEAPOLIS, Minnesota (CNN) -- Drivers who we...   \n",
       "3       WASHINGTON (CNN) -- Doctors removed five small...   \n",
       "4       (CNN)  -- The National Football League has ind...   \n",
       "...                                                   ...   \n",
       "287108  The nine-year-old daughter of a black, unarmed...   \n",
       "287109  Legalising assisted suicide is a slippery slop...   \n",
       "287110  A group calling itself 'The Women of the 99 Pe...   \n",
       "287111  Most men enjoy a good pint of lager or real al...   \n",
       "287112  A Facebook page seeking to preserve the 'Black...   \n",
       "\n",
       "                                               highlights  \\\n",
       "0       Harry Potter star Daniel Radcliffe gets £20M f...   \n",
       "1       Mentally ill inmates in Miami are housed on th...   \n",
       "2       NEW: \"I thought I was going to die,\" driver sa...   \n",
       "3       Five small polyps found during procedure; \"non...   \n",
       "4       NEW: NFL chief, Atlanta Falcons owner critical...   \n",
       "...                                                   ...   \n",
       "287108  Rumain Brisbon, 34, was killed after Phoenix p...   \n",
       "287109  Theo Boer, a European assisted suicide watchdo...   \n",
       "287110  Ohio congressman criticised for 'condoning the...   \n",
       "287111  The Black Country Ale Tairsters have been to 1...   \n",
       "287112  Facebook page supporting tradition gains one m...   \n",
       "\n",
       "                                              id  \n",
       "0       42c027e4ff9730fbb3de84c1af0d2c506e41c3e4  \n",
       "1       ee8871b15c50d0db17b0179a6d2beab35065f1e9  \n",
       "2       06352019a19ae31e527f37f7571c6dd7f0c5da37  \n",
       "3       24521a2abb2e1f5e34e6824e0f9e56904a2b0e88  \n",
       "4       7fe70cc8b12fab2d0a258fababf7d9c6b5e1262a  \n",
       "...                                          ...  \n",
       "287108  279a12d3ee37b8109cc192a9e88115a5a631fb06  \n",
       "287109  b5bc9d404a9a5d890c9fc26550b67e6d8d83241f  \n",
       "287110  500862586f925e406f8b662934e1a71bbee32463  \n",
       "287111  32a1f9e5c37a938c0c0bca1a1559247b9c4334b2  \n",
       "287112  8ec9ff4d633dd4cc26d53f503c33f7464b43c36e  \n",
       "\n",
       "[287113 rows x 3 columns]"
      ]
     },
     "execution_count": 3,
     "metadata": {},
     "output_type": "execute_result"
    }
   ],
   "source": [
    "data"
   ]
  },
  {
   "cell_type": "code",
   "execution_count": 5,
   "id": "7ca279a3",
   "metadata": {},
   "outputs": [],
   "source": [
    "import spacy\n",
    "from sklearn.feature_extraction.text import TfidfVectorizer\n",
    "from sklearn.metrics.pairwise import cosine_similarity\n",
    "import numpy as np\n",
    "\n",
    "nlp = spacy.load(\"en_core_web_sm\")\n",
    "\n",
    "def extractive_summary(text, num_sentences=3):\n",
    "    doc = nlp(text)\n",
    "    sentences = [sent.text for sent in doc.sents]\n",
    "\n",
    "    tfidf = TfidfVectorizer().fit_transform(sentences)\n",
    "    sim_matrix = cosine_similarity(tfidf)\n",
    "\n",
    "    scores = sim_matrix.sum(axis=1)\n",
    "    ranked_sentences = [sentences[i] for i in np.argsort(scores)[-num_sentences:]]\n",
    "\n",
    "    return \" \".join(ranked_sentences)\n"
   ]
  },
  {
   "cell_type": "code",
   "execution_count": 6,
   "id": "5b515987",
   "metadata": {},
   "outputs": [
    {
     "name": "stderr",
     "output_type": "stream",
     "text": [
      "e:\\University Labs\\INTERNSHIP\\tasks\\Lib\\site-packages\\huggingface_hub\\file_download.py:143: UserWarning: `huggingface_hub` cache-system uses symlinks by default to efficiently store duplicated files but your machine does not support them in C:\\Users\\LENOVO\\.cache\\huggingface\\hub\\models--facebook--bart-large-cnn. Caching files will still work but in a degraded version that might require more space on your disk. This warning can be disabled by setting the `HF_HUB_DISABLE_SYMLINKS_WARNING` environment variable. For more details, see https://huggingface.co/docs/huggingface_hub/how-to-cache#limitations.\n",
      "To support symlinks on Windows, you either need to activate Developer Mode or to run Python as an administrator. In order to activate developer mode, see this article: https://docs.microsoft.com/en-us/windows/apps/get-started/enable-your-device-for-development\n",
      "  warnings.warn(message)\n",
      "Xet Storage is enabled for this repo, but the 'hf_xet' package is not installed. Falling back to regular HTTP download. For better performance, install the package with: `pip install huggingface_hub[hf_xet]` or `pip install hf_xet`\n",
      "Error while downloading from https://huggingface.co/facebook/bart-large-cnn/resolve/main/model.safetensors: HTTPSConnectionPool(host='cas-bridge.xethub.hf.co', port=443): Read timed out.\n",
      "Trying to resume download...\n",
      "Device set to use cpu\n"
     ]
    }
   ],
   "source": [
    "import torch\n",
    "from transformers import pipeline\n",
    "\n",
    "summarizer = pipeline(\"summarization\", model=\"facebook/bart-large-cnn\")\n",
    "\n",
    "def abstractive_summary(text):\n",
    "    summary = summarizer(text, max_length=130, min_length=30, do_sample=False)\n",
    "    return summary[0]['summary_text']\n"
   ]
  },
  {
   "cell_type": "code",
   "execution_count": null,
   "id": "a92eb8b0",
   "metadata": {},
   "outputs": [
    {
     "name": "stdout",
     "output_type": "stream",
     "text": [
      "Abstractive Summary:\n",
      " The 'Green Earth Pact' will involve over 120 countries working together to protect forests, wetlands, and marine areas that act as carbon sinks. According to the Secretary-General, this initiative is the largest environmental collaboration since the Paris Agreement.\n",
      "\n",
      "Extractive Summary:\n",
      " Scientists have hailed the pact as a critical step forward, noting that preserving nature is one of the most effective ways to absorb CO2 from the atmosphere. According to the Secretary-General, this initiative is the largest environmental collaboration since the Paris Agreement and aims to cut global carbon emissions by 30% over the next decade. The first global summit to track the progress of the Green Earth Pact is scheduled for early next year, where nations will present their plans and initial outcomes.\n",
      "\n",
      "\n",
      "ROUGE Scores:\n",
      " {'rouge1': np.float64(0.4390243902439025), 'rouge2': np.float64(0.2975206611570248), 'rougeL': np.float64(0.30894308943089427), 'rougeLsum': np.float64(0.30894308943089427)}\n"
     ]
    }
   ],
   "source": [
    "from evaluate import load\n",
    "\n",
    "# Load ROUGE\n",
    "rouge = load(\"rouge\")\n",
    "\n",
    "article_text = \"\"\"\n",
    "In a groundbreaking move, the United Nations has announced a global initiative aimed at combating climate change through the preservation and restoration \n",
    "of natural ecosystems. The new program, titled 'Green Earth Pact', will involve over 120 countries working together to protect forests, wetlands, and \n",
    "marine areas that act as carbon sinks. According to the Secretary-General, this initiative is the largest environmental collaboration since the Paris \n",
    "Agreement and aims to cut global carbon emissions by 30% over the next decade. The plan includes funding for developing nations to implement sustainable \n",
    "agriculture, reforestation projects, and the promotion of green technology. Scientists have hailed the pact as a critical step forward, noting that \n",
    "preserving nature is one of the most effective ways to absorb CO2 from the atmosphere. Critics, however, have raised concerns about enforcement, \n",
    "transparency, and whether wealthy countries will follow through on their financial commitments. The first global summit to track the progress of the Green \n",
    "Earth Pact is scheduled for early next year, where nations will present their plans and initial outcomes.\n",
    "\"\"\"\n",
    "\n",
    "# Get summaries\n",
    "pred_summary = abstractive_summary(article_text)  \n",
    "reference_summary = extractive_summary(article_text)\n",
    "\n",
    "# Compute ROUGE\n",
    "scores = rouge.compute(\n",
    "    predictions=[pred_summary],\n",
    "    references=[reference_summary]\n",
    ")\n",
    "\n",
    "print(\"Abstractive Summary:\\n\", pred_summary)\n",
    "print(\"\\nExtractive Summary:\\n\", reference_summary)\n",
    "print(\"\\nROUGE Scores:\\n\", scores)\n",
    "\n"
   ]
  }
 ],
 "metadata": {
  "kernelspec": {
   "display_name": "tasks",
   "language": "python",
   "name": "python3"
  },
  "language_info": {
   "codemirror_mode": {
    "name": "ipython",
    "version": 3
   },
   "file_extension": ".py",
   "mimetype": "text/x-python",
   "name": "python",
   "nbconvert_exporter": "python",
   "pygments_lexer": "ipython3",
   "version": "3.13.5"
  }
 },
 "nbformat": 4,
 "nbformat_minor": 5
}
